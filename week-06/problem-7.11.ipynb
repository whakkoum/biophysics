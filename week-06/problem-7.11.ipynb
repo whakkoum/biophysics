{
 "cells": [
  {
   "cell_type": "markdown",
   "id": "13c1ec54",
   "metadata": {},
   "source": [
    "# PROBLEM 7.11\n",
    "\n",
    "This problem analyzes the same data set as Problem 5.24.  We are going to fit a \"Cauchy-like\" distribution to the data.\n",
    "\n",
    "This problem uses Dataset 7.  If $x_n$ are the elements of this data set, we want to analyze the variable\n",
    "$$y_n = \\ln \\left( \\dfrac{x_{n+1}}{x_n} \\right)$$\n",
    "\n",
    "Load the data and plot the array $y$."
   ]
  },
  {
   "cell_type": "code",
   "execution_count": null,
   "id": "27c26ef1",
   "metadata": {},
   "outputs": [],
   "source": []
  },
  {
   "cell_type": "markdown",
   "id": "f4b152f0",
   "metadata": {},
   "source": [
    "We are going to attempt to fit the data with a distribution of the form\n",
    "$$\\mathcal{P}(y;\\alpha,\\mu,\\eta) = \\dfrac{A}{1 + \\left( \\dfrac{y-\\mu}{\\eta} \\right)^\\alpha}$$\n",
    "We will set $\\alpha = 4$ for now.  You can explore other values of $\\alpha$ below, if you are interested."
   ]
  },
  {
   "cell_type": "markdown",
   "id": "3ddeac3b",
   "metadata": {},
   "source": [
    "## (a) Likelihood\n",
    "\n",
    "Evaluate the likelihood of the dataset and the log likelihood of the data set using $\\alpha=4$, $\\mu = 0$, and $\\eta = 0.02$."
   ]
  },
  {
   "cell_type": "code",
   "execution_count": null,
   "id": "25fe20f0",
   "metadata": {},
   "outputs": [],
   "source": []
  },
  {
   "cell_type": "markdown",
   "id": "00da98da",
   "metadata": {},
   "source": [
    "## (b) Maximum Likelihood\n",
    "\n",
    "Compute the log likelihood $L(\\mu,\\eta)$ — holding $\\alpha=4$ constant — on a grid of values for $\\mu$ and $\\eta$ and make a surface plot of this function.  (See Section 6.4 for some useful Python tools.)"
   ]
  },
  {
   "cell_type": "code",
   "execution_count": null,
   "id": "9d4caaaa",
   "metadata": {},
   "outputs": [],
   "source": []
  },
  {
   "cell_type": "markdown",
   "id": "b205b64a",
   "metadata": {},
   "source": [
    "## (c) Normal Distribution\n",
    "\n",
    "Repeat the analysis of part (b), but using a normal distribution for $y$:\n",
    "$$\\mathcal{P}(y;\\mu,\\sigma) = \\dfrac{1}{\\sigma \\sqrt{2\\pi}} e^{-(y-\\mu)^2 / 2\\sigma^2 }$$\n",
    "\n",
    "Evaluate the log likelihood on a grid of $\\mu$ and $\\sigma$ values and make a surface plot of the result."
   ]
  },
  {
   "cell_type": "code",
   "execution_count": null,
   "id": "80fdaa35",
   "metadata": {},
   "outputs": [],
   "source": []
  },
  {
   "cell_type": "markdown",
   "id": "912653e5",
   "metadata": {},
   "source": [
    "Use your plots or other methods to find the optimal values of $\\mu$ and $\\eta$ for the Cauchy-like distribution and the optimal values of $\\mu$ and $\\sigma$ for the normal distribution.\n",
    "\n",
    "Plot the data, along with your best Cauchy-like distribution and your best normal distribution, and comment."
   ]
  },
  {
   "cell_type": "code",
   "execution_count": null,
   "id": "dc3dc9dc",
   "metadata": {},
   "outputs": [],
   "source": []
  },
  {
   "cell_type": "markdown",
   "id": "6921736e",
   "metadata": {},
   "source": [
    "Based on your analysis, which model best fits the data set?  Which has the greatest likelihood?"
   ]
  },
  {
   "cell_type": "markdown",
   "id": "69371c8b",
   "metadata": {},
   "source": [
    "***Replace with your comments.***"
   ]
  },
  {
   "cell_type": "code",
   "execution_count": null,
   "id": "dd59f37a",
   "metadata": {},
   "outputs": [],
   "source": []
  },
  {
   "cell_type": "markdown",
   "id": "7e3dd7ba",
   "metadata": {},
   "source": [
    "***Replace with your comments.***"
   ]
  },
  {
   "cell_type": "markdown",
   "id": "d3dcd83d",
   "metadata": {},
   "source": [
    "## Challenge #1\n",
    "\n",
    "Carry the analysis further and optimize the exponent $\\alpha$, together with $\\mu$ and $\\alpha$, for the Cauchy-like distribution."
   ]
  },
  {
   "cell_type": "code",
   "execution_count": null,
   "id": "e305b856",
   "metadata": {},
   "outputs": [],
   "source": []
  },
  {
   "cell_type": "markdown",
   "id": "6bd9ef8b",
   "metadata": {},
   "source": [
    "Is $\\alpha = 4$ a good choice?"
   ]
  },
  {
   "cell_type": "markdown",
   "id": "bfc3f91f",
   "metadata": {},
   "source": [
    "***Replace with your comments.***"
   ]
  },
  {
   "cell_type": "markdown",
   "id": "9f5a0ec2",
   "metadata": {},
   "source": [
    "## Challenge #2\n",
    "\n",
    "Compute credible intervals for $\\mu$ and $\\eta$ — and $\\alpha$, if you can — for the Cauchy-like distribution at the 90 percent confidence level."
   ]
  },
  {
   "cell_type": "code",
   "execution_count": null,
   "id": "95a95ea4",
   "metadata": {},
   "outputs": [],
   "source": []
  },
  {
   "cell_type": "markdown",
   "id": "b71dbca1",
   "metadata": {},
   "source": [
    "Compute credible intervals for $\\mu$ and $\\sigma$ for the normal distribution at the 90 percent confidence level."
   ]
  },
  {
   "cell_type": "code",
   "execution_count": null,
   "id": "f26f443e",
   "metadata": {},
   "outputs": [],
   "source": []
  }
 ],
 "metadata": {
  "kernelspec": {
   "display_name": "Python 3",
   "language": "python",
   "name": "python3"
  },
  "language_info": {
   "codemirror_mode": {
    "name": "ipython",
    "version": 3
   },
   "file_extension": ".py",
   "mimetype": "text/x-python",
   "name": "python",
   "nbconvert_exporter": "python",
   "pygments_lexer": "ipython3",
   "version": "3.9.5"
  }
 },
 "nbformat": 4,
 "nbformat_minor": 5
}
