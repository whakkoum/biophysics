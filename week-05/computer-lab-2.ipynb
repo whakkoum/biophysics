{
 "cells": [
  {
   "cell_type": "markdown",
   "id": "b7cf91a4",
   "metadata": {},
   "source": [
    "# Computer Lab 2 — continued ...\n",
    "\n",
    "Work through Part 3 of the \"Second Computer Lab\" (Chapter 7) in _A Student's Guide to Python._  This exercise focuses on the Poisson distribution and waiting times.\n",
    "\n",
    "You can use this notebook to store your code, plots, and notes, or you can write a ___script___ (see Section 3.3) that will carry out the analysis and produce the plots, and simply write your comments and observations in this notebook.  If you write a script, it should save your plot with the data and your best fit to a PDF, JPG, or PNG in this folder when it runs."
   ]
  },
  {
   "cell_type": "code",
   "execution_count": null,
   "id": "884f0140",
   "metadata": {},
   "outputs": [],
   "source": []
  }
 ],
 "metadata": {
  "kernelspec": {
   "display_name": "Python 3",
   "language": "python",
   "name": "python3"
  },
  "language_info": {
   "codemirror_mode": {
    "name": "ipython",
    "version": 3
   },
   "file_extension": ".py",
   "mimetype": "text/x-python",
   "name": "python",
   "nbconvert_exporter": "python",
   "pygments_lexer": "ipython3",
   "version": "3.9.5"
  }
 },
 "nbformat": 4,
 "nbformat_minor": 5
}
