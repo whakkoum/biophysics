{
 "cells": [
  {
   "cell_type": "markdown",
   "id": "c9ef585a",
   "metadata": {},
   "source": [
    "# Problem 5.24\n",
    "\n",
    "___This problem is only required for 507 and Honors students.  It will be counted as extra credit for all others.___\n",
    "\n",
    "Use this notebook to present your work on the problem.  If you write scripts, store them in this folder and run them within this notebook to produce the requested histograms and graphs."
   ]
  },
  {
   "cell_type": "markdown",
   "id": "69d851b4",
   "metadata": {},
   "source": [
    "## (a) Time-series and histogram"
   ]
  },
  {
   "cell_type": "code",
   "execution_count": null,
   "id": "6d50db78",
   "metadata": {},
   "outputs": [],
   "source": []
  },
  {
   "cell_type": "markdown",
   "id": "5d15a51a",
   "metadata": {},
   "source": [
    "## (b) Gaussian approximation"
   ]
  },
  {
   "cell_type": "code",
   "execution_count": null,
   "id": "0a5ae01d",
   "metadata": {},
   "outputs": [],
   "source": []
  },
  {
   "cell_type": "markdown",
   "id": "a4dd36fe",
   "metadata": {},
   "source": [
    "## (c) Comparison of logarithms"
   ]
  },
  {
   "cell_type": "code",
   "execution_count": null,
   "id": "644fb5f3",
   "metadata": {},
   "outputs": [],
   "source": []
  },
  {
   "cell_type": "markdown",
   "id": "db4830ba",
   "metadata": {},
   "source": [
    "## (d) Power law approximation"
   ]
  },
  {
   "cell_type": "code",
   "execution_count": null,
   "id": "e382efe1",
   "metadata": {},
   "outputs": [],
   "source": []
  }
 ],
 "metadata": {
  "kernelspec": {
   "display_name": "Python 3",
   "language": "python",
   "name": "python3"
  },
  "language_info": {
   "codemirror_mode": {
    "name": "ipython",
    "version": 3
   },
   "file_extension": ".py",
   "mimetype": "text/x-python",
   "name": "python",
   "nbconvert_exporter": "python",
   "pygments_lexer": "ipython3",
   "version": "3.9.5"
  }
 },
 "nbformat": 4,
 "nbformat_minor": 5
}
