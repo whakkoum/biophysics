{
 "cells": [
  {
   "cell_type": "markdown",
   "id": "85c9e54f",
   "metadata": {},
   "source": [
    "# Problem 5.7\n",
    "\n",
    "Use this notebook to present your work on the problem.  If you write scripts, store them in this folder and run them within this notebook to produce the requested histograms."
   ]
  },
  {
   "cell_type": "markdown",
   "id": "0fa030a6",
   "metadata": {},
   "source": [
    "## (a) __Histogram of $1/x$__"
   ]
  },
  {
   "cell_type": "code",
   "execution_count": null,
   "id": "897af508",
   "metadata": {},
   "outputs": [],
   "source": []
  },
  {
   "cell_type": "markdown",
   "id": "88949d46",
   "metadata": {},
   "source": [
    "## (b) Log-log plot of frequencies"
   ]
  },
  {
   "cell_type": "code",
   "execution_count": null,
   "id": "47458b9a",
   "metadata": {},
   "outputs": [],
   "source": []
  },
  {
   "cell_type": "markdown",
   "id": "4de037f5",
   "metadata": {},
   "source": [
    "## (c) Analysis and Conclusions"
   ]
  },
  {
   "cell_type": "markdown",
   "id": "e57b89c6",
   "metadata": {},
   "source": []
  },
  {
   "cell_type": "markdown",
   "id": "6af74d8d",
   "metadata": {},
   "source": [
    "## (d) Numerical experiments with more samples"
   ]
  },
  {
   "cell_type": "code",
   "execution_count": null,
   "id": "6abf7027",
   "metadata": {},
   "outputs": [],
   "source": []
  }
 ],
 "metadata": {
  "kernelspec": {
   "display_name": "Python 3",
   "language": "python",
   "name": "python3"
  },
  "language_info": {
   "codemirror_mode": {
    "name": "ipython",
    "version": 3
   },
   "file_extension": ".py",
   "mimetype": "text/x-python",
   "name": "python",
   "nbconvert_exporter": "python",
   "pygments_lexer": "ipython3",
   "version": "3.9.5"
  }
 },
 "nbformat": 4,
 "nbformat_minor": 5
}
