{
 "cells": [
  {
   "cell_type": "markdown",
   "id": "bde30066",
   "metadata": {},
   "source": [
    "# Problem 5.17\n",
    "\n",
    "___This problem is only required for 507 and Honors students.  It will be counted as extra credit for all others.___\n",
    "\n",
    "Use this notebook to present your work on the problem.  If you write scripts, store them in this folder and run them within this notebook to produce the requested histograms and graphs."
   ]
  },
  {
   "cell_type": "markdown",
   "id": "b7f408b8",
   "metadata": {},
   "source": [
    "## (a) Cauchy distribution"
   ]
  },
  {
   "cell_type": "code",
   "execution_count": null,
   "id": "13f99fc3",
   "metadata": {},
   "outputs": [],
   "source": []
  },
  {
   "cell_type": "markdown",
   "id": "fb26dab0",
   "metadata": {},
   "source": [
    "## (b) Gaussian distribution"
   ]
  },
  {
   "cell_type": "code",
   "execution_count": null,
   "id": "02d5f5e1",
   "metadata": {},
   "outputs": [],
   "source": []
  },
  {
   "cell_type": "markdown",
   "id": "2e4d6f7e",
   "metadata": {},
   "source": [
    "## (c) $P(|x| > FWHM/2)$ for Cauchy distribution"
   ]
  },
  {
   "cell_type": "code",
   "execution_count": null,
   "id": "ea3c5c0a",
   "metadata": {},
   "outputs": [],
   "source": []
  },
  {
   "cell_type": "markdown",
   "id": "da35a525",
   "metadata": {},
   "source": [
    "## (d) $P(|x| > FWHM/2)$ for Gaussian distribution"
   ]
  },
  {
   "cell_type": "code",
   "execution_count": null,
   "id": "a0251d30",
   "metadata": {},
   "outputs": [],
   "source": []
  },
  {
   "cell_type": "markdown",
   "id": "166eebbd",
   "metadata": {},
   "source": [
    "## (e) $P(|x| > 1.5 \\, FWHM)$ for Cauchy and Gaussian distributions"
   ]
  },
  {
   "cell_type": "code",
   "execution_count": null,
   "id": "84158421",
   "metadata": {},
   "outputs": [],
   "source": []
  },
  {
   "cell_type": "markdown",
   "id": "1a1f7a01",
   "metadata": {},
   "source": [
    "## (f) Interquartile range"
   ]
  },
  {
   "cell_type": "code",
   "execution_count": null,
   "id": "1608327c",
   "metadata": {},
   "outputs": [],
   "source": []
  }
 ],
 "metadata": {
  "kernelspec": {
   "display_name": "Python 3",
   "language": "python",
   "name": "python3"
  },
  "language_info": {
   "codemirror_mode": {
    "name": "ipython",
    "version": 3
   },
   "file_extension": ".py",
   "mimetype": "text/x-python",
   "name": "python",
   "nbconvert_exporter": "python",
   "pygments_lexer": "ipython3",
   "version": "3.9.5"
  }
 },
 "nbformat": 4,
 "nbformat_minor": 5
}
