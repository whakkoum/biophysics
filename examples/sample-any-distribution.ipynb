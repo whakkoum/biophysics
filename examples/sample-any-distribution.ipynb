{
 "cells": [
  {
   "cell_type": "code",
   "execution_count": 1,
   "metadata": {},
   "outputs": [],
   "source": [
    "# Standard import\n",
    "import numpy as np\n",
    "import matplotlib.pyplot as plt\n",
    "\n",
    "# Random number generator\n",
    "from numpy.random import default_rng\n",
    "rng = default_rng()\n",
    "rand = rng.random\n",
    "\n",
    "# Import binomial coefficient function\n",
    "from scipy.special import binom"
   ]
  },
  {
   "cell_type": "markdown",
   "metadata": {},
   "source": [
    "We need to create an array whose values are the edges of \"binomial probability bins\"."
   ]
  },
  {
   "cell_type": "code",
   "execution_count": 2,
   "metadata": {},
   "outputs": [],
   "source": [
    "# Size of the problem and base probability\n",
    "M = 10\n",
    "xi = 0.5\n",
    "\n",
    "# Array of all possible outcomes\n",
    "k = np.arange(M+1)\n",
    "\n",
    "# Array of probabilities, created with array math\n",
    "Pk = binom(M,k) * xi**k * (1-xi)**(M-k)\n",
    "\n",
    "# Bin locations for simulation.  First entry needs to be zero.\n",
    "bins = np.zeros(M+2)\n",
    "bins[1:] = Pk.cumsum()"
   ]
  },
  {
   "cell_type": "markdown",
   "metadata": {},
   "source": [
    "We now have an array that can be used to simulate draws from a binomial distribution, even though our random number generator draws from the uniform distribution.  We just have to histogram the draws from the uniform distribution using our unequally spaced bins."
   ]
  },
  {
   "cell_type": "code",
   "execution_count": 3,
   "metadata": {},
   "outputs": [
    {
     "data": {
      "text/plain": [
       "Text(0, 0.5, 'Location')"
      ]
     },
     "execution_count": 3,
     "metadata": {},
     "output_type": "execute_result"
    },
    {
     "data": {
      "image/png": "[encoded data removed]",
      "text/plain": [
       "<Figure size 432x288 with 1 Axes>"
      ]
     },
     "metadata": {
      "needs_background": "light"
     },
     "output_type": "display_data"
    }
   ],
   "source": [
    "plt.plot(bins, '.')\n",
    "plt.xlabel(\"Bin Edges\")\n",
    "plt.ylabel(\"Location\")"
   ]
  },
  {
   "cell_type": "code",
   "execution_count": 4,
   "metadata": {},
   "outputs": [],
   "source": [
    "N = 1000\n",
    "data = rand(N)\n",
    "counts, bins = np.histogram(data,bins=bins)"
   ]
  },
  {
   "cell_type": "markdown",
   "metadata": {},
   "source": [
    "The histogram we just produced uses uneven bins."
   ]
  },
  {
   "cell_type": "code",
   "execution_count": 5,
   "metadata": {},
   "outputs": [
    {
     "data": {
      "text/plain": [
       "(array([  1.,  12.,  59., 100., 176., 273., 192., 129.,  42.,  14.,   2.]),\n",
       " array([0.00000000e+00, 9.76562500e-04, 1.07421875e-02, 5.46875000e-02,\n",
       "        1.71875000e-01, 3.76953125e-01, 6.23046875e-01, 8.28125000e-01,\n",
       "        9.45312500e-01, 9.89257812e-01, 9.99023438e-01, 1.00000000e+00]),\n",
       " <BarContainer object of 11 artists>)"
      ]
     },
     "execution_count": 5,
     "metadata": {},
     "output_type": "execute_result"
    },
    {
     "data": {
      "image/png": "[encoded data removed]",
      "text/plain": [
       "<Figure size 432x288 with 1 Axes>"
      ]
     },
     "metadata": {
      "needs_background": "light"
     },
     "output_type": "display_data"
    }
   ],
   "source": [
    "plt.hist(data, bins=bins)"
   ]
  },
  {
   "cell_type": "markdown",
   "metadata": {},
   "source": [
    "If we use the original array of values, we see something close to the expected distribution."
   ]
  },
  {
   "cell_type": "code",
   "execution_count": 6,
   "metadata": {},
   "outputs": [
    {
     "data": {
      "text/plain": [
       "<BarContainer object of 11 artists>"
      ]
     },
     "execution_count": 6,
     "metadata": {},
     "output_type": "execute_result"
    },
    {
     "data": {
      "image/png": "[encoded data removed]",
      "text/plain": [
       "<Figure size 432x288 with 1 Axes>"
      ]
     },
     "metadata": {
      "needs_background": "light"
     },
     "output_type": "display_data"
    }
   ],
   "source": [
    "plt.bar(k,counts)"
   ]
  },
  {
   "cell_type": "markdown",
   "metadata": {},
   "source": [
    "We can embed all of this in a function that will generate the histogram."
   ]
  },
  {
   "cell_type": "code",
   "execution_count": 7,
   "metadata": {},
   "outputs": [],
   "source": [
    "def simulate_binomial(M,xi,N):\n",
    "    \"\"\"\n",
    "    Generate a data sample from the binomial distribution.\n",
    "    \n",
    "    M = number of events in a single trial\n",
    "    xi = probability of success\n",
    "    N = number of trials to simulate\n",
    "    \n",
    "    Plots a histogram and returns counts and bins.\n",
    "    \"\"\"\n",
    "    \n",
    "    k = np.arange(M+1)\n",
    "\n",
    "    # Array of probabilities, created with array math\n",
    "    Pk = binom(M,k) * xi**k * (1-xi)**(M-k)\n",
    "\n",
    "    # Bin locations for simulation.  First entry needs to be zero.\n",
    "    bins = np.zeros(M+2)\n",
    "    bins[1:] = Pk.cumsum()\n",
    "    \n",
    "    # Generate the data set.\n",
    "    data = rand(N)\n",
    "    counts, *rest = np.histogram(data,bins=bins)\n",
    "    \n",
    "    # Plot a histogram of the results.\n",
    "    plt.bar(k, counts)\n",
    "    plt.xlabel(\"# of Successes\")\n",
    "    plt.ylabel(\"Frequency\")\n",
    "    \n",
    "    # Return bins and counts for further analysis.\n",
    "    return k, counts"
   ]
  },
  {
   "cell_type": "markdown",
   "metadata": {},
   "source": [
    "Now we can use the function for numerical experiments."
   ]
  },
  {
   "cell_type": "code",
   "execution_count": 8,
   "metadata": {},
   "outputs": [
    {
     "data": {
      "text/plain": [
       "(array([ 0,  1,  2,  3,  4,  5,  6,  7,  8,  9, 10, 11, 12, 13, 14, 15, 16,\n",
       "        17, 18, 19, 20]),\n",
       " array([ 2,  7, 19, 25, 20, 11, 12,  4,  0,  0,  0,  0,  0,  0,  0,  0,  0,\n",
       "         0,  0,  0,  0]))"
      ]
     },
     "execution_count": 8,
     "metadata": {},
     "output_type": "execute_result"
    },
    {
     "data": {
      "image/png": "[encoded data removed]",
      "text/plain": [
       "<Figure size 432x288 with 1 Axes>"
      ]
     },
     "metadata": {
      "needs_background": "light"
     },
     "output_type": "display_data"
    }
   ],
   "source": [
    "simulate_binomial(20,0.2,100)"
   ]
  }
 ],
 "metadata": {
  "kernelspec": {
   "display_name": "Python 3",
   "language": "python",
   "name": "python3"
  },
  "language_info": {
   "codemirror_mode": {
    "name": "ipython",
    "version": 3
   },
   "file_extension": ".py",
   "mimetype": "text/x-python",
   "name": "python",
   "nbconvert_exporter": "python",
   "pygments_lexer": "ipython3",
   "version": "3.7.0"
  }
 },
 "nbformat": 4,
 "nbformat_minor": 5
}
