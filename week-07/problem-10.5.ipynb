{
 "cells": [
  {
   "cell_type": "markdown",
   "id": "c59005a3",
   "metadata": {},
   "source": [
    "# 10.5 AVERAGE OVER MANY DRAWS\n",
    "\n",
    "Use this notebook to store your work for this problem."
   ]
  },
  {
   "cell_type": "code",
   "execution_count": null,
   "id": "a53b67ec",
   "metadata": {},
   "outputs": [],
   "source": []
  },
  {
   "cell_type": "markdown",
   "id": "197fe167",
   "metadata": {},
   "source": [
    "***REPLACE WITH YOUR COMMENTS.***"
   ]
  }
 ],
 "metadata": {
  "kernelspec": {
   "display_name": "Python 3",
   "language": "python",
   "name": "python3"
  },
  "language_info": {
   "codemirror_mode": {
    "name": "ipython",
    "version": 3
   },
   "file_extension": ".py",
   "mimetype": "text/x-python",
   "name": "python",
   "nbconvert_exporter": "python",
   "pygments_lexer": "ipython3",
   "version": "3.9.5"
  }
 },
 "nbformat": 4,
 "nbformat_minor": 5
}
