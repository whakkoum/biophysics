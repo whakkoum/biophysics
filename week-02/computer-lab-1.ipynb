{
 "cells": [
  {
   "cell_type": "markdown",
   "id": "b7cf91a4",
   "metadata": {},
   "source": [
    "# Computer Lab 1\n",
    "\n",
    "Work through the first half of \"First Computer Lab\" (Section 5.1) in _A Student's Guide to Python._  This exercise ties together everything we did in Week 1.\n",
    "\n",
    "You can use this notebook to store your code, plots, and notes, or you can write a ___script___ (see Section 3.3) that will carry out the analysis and produce the plots, and simply write your comments in this notebook.  If you write a script, it should save your plot with the data and your best fit to a PDF in this folder when it runs."
   ]
  }
 ],
 "metadata": {
  "kernelspec": {
   "display_name": "Python 3",
   "language": "python",
   "name": "python3"
  },
  "language_info": {
   "codemirror_mode": {
    "name": "ipython",
    "version": 3
   },
   "file_extension": ".py",
   "mimetype": "text/x-python",
   "name": "python",
   "nbconvert_exporter": "python",
   "pygments_lexer": "ipython3",
   "version": "3.9.5"
  }
 },
 "nbformat": 4,
 "nbformat_minor": 5
}

# -*- coding: utf-8 -*-
"""
Created on Mon Feb  7 17:39:47 2022

@author: walee
"""

import numpy as np
import matplotlib.pyplot as plt

# Assignment 1

B = 10000
A = 170000
alpha = .5
beta = 1

time = np.linspace(0,10,1000)
viral_load = A * np.exp(-alpha*time) + B * np.exp(-beta*time)

plt.plot(time,viral_load)
data_set = np.loadtxt("HIVseries.csv", delimiter=',')
x = data_set[:,0]
f = data_set[:,1]
X = np.array(x)
Y = np.array(f)
plt.plot(X,Y)
"""
It looks like these parameters satesfy the data points given except for the first two data points that appear to be an anomalies.
"""

# Assignment 2
def w(t,A,tau):
    return A*(np.e**(-t/tau)-1+t/tau)

t = np.linspace(0,2,1000)
plt.figure()
plt.plot(t,w(t,1,1), color = 'green', linestyle = 'dotted')
plt.plot(t,w(t,2,2), color = 'red', linestyle = 'solid')
plt.plot(t,w(t,3,3), color = 'blue', linestyle = 'dashed')
plt.xlabel('time')
plt.ylabel('W(t)')
plt.legend(('W1','W2','W3'))
plt.show()


# Assignment 3:

def v(t1,tau):
    return (1- np.e**(-t1/tau))

t1 = np.linspace(0,7,1000)
novick_A = np.loadtxt("g149novickA.csv", delimiter=',')

plt.figure()
x1 = novick_A[:,0]
f1 = novick_A[:,1]
X1 = np.array(x1)
Y1 = np.array(f1)
plt.scatter(X1,Y1, marker = '+')
plt.plot(t1,v(t1,3))
plt.show()

novick_B = np.loadtxt("g149novickB.csv", delimiter=',')

plt.figure()
x2 = novick_B[:,0]
f2 = novick_B[:,1]
X2 = np.array(x2)
Y2 = np.array(f2)
plt.scatter(X1,Y1, marker = '+')
plt.plot(t1,v(t,1))
plt.show()

