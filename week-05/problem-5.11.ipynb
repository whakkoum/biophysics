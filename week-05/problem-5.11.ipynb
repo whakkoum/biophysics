{
 "cells": [
  {
   "cell_type": "markdown",
   "id": "b7b17d78",
   "metadata": {},
   "source": [
    "# Problem 5.11\n",
    "\n",
    "Use this notebook to present your work on the problem.  If you write scripts, store them in this folder and run them within this notebook to produce the requested histograms and graphs."
   ]
  },
  {
   "cell_type": "markdown",
   "id": "482f03dd",
   "metadata": {},
   "source": [
    "## (a) Sums of random variables\n",
    "\n",
    "Write Python code to generate a histogram of 50,000 samples of a random variable $y = x_1 + x_2$ where $x_1$ and $x_2$ are random variables drawn from the uniform distribution over $[-1/2, 1/2]$.  Superimpose a plot of the expected probability distribution function for this variable."
   ]
  },
  {
   "cell_type": "code",
   "execution_count": null,
   "id": "9245f3b5",
   "metadata": {},
   "outputs": [],
   "source": []
  },
  {
   "cell_type": "markdown",
   "id": "9e375d57",
   "metadata": {},
   "source": [
    "Write Python code to generate a histogram of 50,000 samples of a random variable $y = x_1 + x_2 + x_3 + x_4$ where $x_n$ are random variables drawn from the uniform distribution over $[-1/2, 1/2]$.  Superimpose a plot of the expected probability distribution function for this variable."
   ]
  },
  {
   "cell_type": "code",
   "execution_count": null,
   "id": "db7224e3",
   "metadata": {},
   "outputs": [],
   "source": []
  },
  {
   "cell_type": "markdown",
   "id": "613ae000",
   "metadata": {},
   "source": [
    "## (b) Sums of _more_ random variables\n",
    "\n",
    "Write Python code to generate a histogram of 50,000 samples of a random variable $y$ that is the sum of __10__ random variables drawn from the uniform distribution over $[-1/2, 1/2]$.  Superimpose a plot of the expected probability distribution function for this variable."
   ]
  },
  {
   "cell_type": "code",
   "execution_count": null,
   "id": "a8357d3c",
   "metadata": {},
   "outputs": [],
   "source": []
  },
  {
   "cell_type": "markdown",
   "id": "a76d601a",
   "metadata": {},
   "source": [
    "## (c) Sums of nonuniform discrete random variables\n",
    "\n",
    "rite Python code to generate a histogram of 50,000 samples of a random variables $y$ that are the sum of __2__, __4__, and __10__ random variables drawn from the discrete distribution\n",
    "$$\n",
    "P(1) = \\dfrac{1}{3} \\qquad P(2) = \\dfrac{2}{9} \\qquad P(3) = \\dfrac{1}{9} \\qquad P(4) = \\dfrac{1}{3}\n",
    "$$"
   ]
  },
  {
   "cell_type": "code",
   "execution_count": null,
   "id": "8e0c0247",
   "metadata": {},
   "outputs": [],
   "source": []
  },
  {
   "cell_type": "markdown",
   "id": "f25c3c61",
   "metadata": {},
   "source": [
    "## (d) Sums of nonuniform continuous random variables\n",
    "\n",
    "Write Python code to generate a histogram of 50,000 samples of a random variables $y$ that are the sum of __5__ and __50__ random variables drawn from the exponential distribution with expectation 1."
   ]
  },
  {
   "cell_type": "code",
   "execution_count": null,
   "id": "04db07e6",
   "metadata": {},
   "outputs": [],
   "source": []
  },
  {
   "cell_type": "markdown",
   "id": "16877080",
   "metadata": {},
   "source": [
    "## Summarize your findings."
   ]
  },
  {
   "cell_type": "markdown",
   "id": "32e6f512",
   "metadata": {},
   "source": []
  }
 ],
 "metadata": {
  "kernelspec": {
   "display_name": "Python 3",
   "language": "python",
   "name": "python3"
  },
  "language_info": {
   "codemirror_mode": {
    "name": "ipython",
    "version": 3
   },
   "file_extension": ".py",
   "mimetype": "text/x-python",
   "name": "python",
   "nbconvert_exporter": "python",
   "pygments_lexer": "ipython3",
   "version": "3.9.5"
  }
 },
 "nbformat": 4,
 "nbformat_minor": 5
}
